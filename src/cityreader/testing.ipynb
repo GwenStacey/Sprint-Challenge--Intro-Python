{
 "cells": [
  {
   "cell_type": "code",
   "execution_count": 1,
   "metadata": {},
   "outputs": [],
   "source": [
    "import csv"
   ]
  },
  {
   "cell_type": "code",
   "execution_count": 7,
   "metadata": {
    "tags": [
     "outputPrepend"
    ]
   },
   "outputs": [
    {
     "output_type": "stream",
     "name": "stdout",
     "text": "Seattle 47.6217 -122.3238\nRichmond 37.5294 -77.4755\nVirginia Beach 36.7335 -76.0435\nWashington 38.9047 -77.0163\nMilwaukee 43.0640 -87.9669\nOrlando 28.4801 -81.3448\nMiami 25.7840 -80.2102\nTampa 27.9937 -82.4454\nJacksonville 30.3322 -81.6749\nAlbuquerque 35.1055 -106.6476\nFort Worth 32.7813 -97.3466\nMcAllen 26.2203 -98.2457\nEl Paso 31.8478 -106.4310\nDallas 32.7938 -96.7659\nAustin 30.3038 -97.7545\nHouston 29.7871 -95.3936\nSan Antonio 29.4722 -98.5247\nNew Orleans 30.0687 -89.9288\nCharlotte 35.2080 -80.8308\nRaleigh 35.8323 -78.6441\nOmaha 41.2634 -96.0453\nMemphis 35.1047 -89.9773\nNashville 36.1714 -86.7844\nBuffalo 42.9016 -78.8487\nQueens 40.7498 -73.7976\nNew York 40.6943 -73.9249\nBronx 40.8501 -73.8662\nBrooklyn 40.6501 -73.9496\nManhattan 40.7834 -73.9662\nPhiladelphia 40.0076 -75.1340\nPittsburgh 40.4396 -79.9763\nSacramento 38.5666 -121.4683\nRiverside 33.9382 -117.3949\nSan Francisco 37.7561 -122.4429\nSan Diego 32.8312 -117.1225\nSan Jose 37.3020 -121.8488\nLos Angeles 34.1140 -118.4068\nLas Vegas 36.2288 -115.2603\nDenver 39.7621 -104.8759\nChicago 41.8373 -87.6861\nAtlanta 33.7627 -84.4231\nIndianapolis 39.7771 -86.1458\nOklahoma City 35.4677 -97.5138\nPhoenix 33.5722 -112.0891\nTucson 32.1558 -110.8777\nBridgeport 41.1909 -73.1958\nHartford 41.7661 -72.6834\nBaltimore 39.3051 -76.6144\nBoston 42.3189 -71.0838\nCleveland 41.4766 -81.6805\nColumbus 39.9859 -82.9852\nCincinnati 39.1412 -84.5060\nSalt Lake City 40.7774 -111.9301\nSaint Louis 38.6358 -90.2451\nKansas City 39.1239 -94.5541\nMinneapolis 44.9635 -93.2679\nDetroit 42.3834 -83.1024\nProvidence 41.8229 -71.4186\nLouisville 38.1662 -85.6488\nPortland 45.5372 -122.6500\n"
    }
   ],
   "source": [
    "with open('cities.csv', newline= \"\") as data:\n",
    "    towns = csv.DictReader(data, delimiter=',', quotechar='|')\n",
    "    for row in towns:\n",
    "        print(row['city'],row['lat'],row['lng'])"
   ]
  },
  {
   "cell_type": "code",
   "execution_count": 32,
   "metadata": {},
   "outputs": [],
   "source": [
    "class City():\n",
    "  def __init__(self, name, lat, lon):\n",
    "    self.name=name\n",
    "    self.lat=lat\n",
    "    self.lon=lon"
   ]
  },
  {
   "cell_type": "code",
   "execution_count": 50,
   "metadata": {},
   "outputs": [
    {
     "output_type": "stream",
     "name": "stdout",
     "text": "Seattle 47.6217 -122.3238\nRichmond 37.5294 -77.4755\nVirginia Beach 36.7335 -76.0435\nWashington 38.9047 -77.0163\nMilwaukee 43.0640 -87.9669\nOrlando 28.4801 -81.3448\nMiami 25.7840 -80.2102\nTampa 27.9937 -82.4454\nJacksonville 30.3322 -81.6749\nAlbuquerque 35.1055 -106.6476\nFort Worth 32.7813 -97.3466\nMcAllen 26.2203 -98.2457\nEl Paso 31.8478 -106.4310\nDallas 32.7938 -96.7659\nAustin 30.3038 -97.7545\nHouston 29.7871 -95.3936\nSan Antonio 29.4722 -98.5247\nNew Orleans 30.0687 -89.9288\nCharlotte 35.2080 -80.8308\nRaleigh 35.8323 -78.6441\nOmaha 41.2634 -96.0453\nMemphis 35.1047 -89.9773\nNashville 36.1714 -86.7844\nBuffalo 42.9016 -78.8487\nQueens 40.7498 -73.7976\nNew York 40.6943 -73.9249\nBronx 40.8501 -73.8662\nBrooklyn 40.6501 -73.9496\nManhattan 40.7834 -73.9662\nPhiladelphia 40.0076 -75.1340\nPittsburgh 40.4396 -79.9763\nSacramento 38.5666 -121.4683\nRiverside 33.9382 -117.3949\nSan Francisco 37.7561 -122.4429\nSan Diego 32.8312 -117.1225\nSan Jose 37.3020 -121.8488\nLos Angeles 34.1140 -118.4068\nLas Vegas 36.2288 -115.2603\nDenver 39.7621 -104.8759\nChicago 41.8373 -87.6861\nAtlanta 33.7627 -84.4231\nIndianapolis 39.7771 -86.1458\nOklahoma City 35.4677 -97.5138\nPhoenix 33.5722 -112.0891\nTucson 32.1558 -110.8777\nBridgeport 41.1909 -73.1958\nHartford 41.7661 -72.6834\nBaltimore 39.3051 -76.6144\nBoston 42.3189 -71.0838\nCleveland 41.4766 -81.6805\nColumbus 39.9859 -82.9852\nCincinnati 39.1412 -84.5060\nSalt Lake City 40.7774 -111.9301\nSaint Louis 38.6358 -90.2451\nKansas City 39.1239 -94.5541\nMinneapolis 44.9635 -93.2679\nDetroit 42.3834 -83.1024\nProvidence 41.8229 -71.4186\nLouisville 38.1662 -85.6488\nPortland 45.5372 -122.6500\n"
    }
   ],
   "source": [
    "cities = []\n",
    "import csv\n",
    "def cityreader(cities=[]):\n",
    "  # TODO Implement the functionality to read from the 'cities.csv' file\n",
    "  # For each city record, create a new City instance and add it to the \n",
    "  # `cities` list\n",
    "    with open('cities.csv', newline= \"\") as data:\n",
    "      towns = csv.DictReader(data, delimiter=',')\n",
    "      for row in towns:\n",
    "          city = City(name=row['city'],lat=row['lat'],lon=row['lng'])\n",
    "          cities.append(city)\n",
    "    return cities\n",
    "\n",
    "cityreader(cities)\n",
    "\n",
    "# Print the list of cities (name, lat, lon), 1 record per line.\n",
    "for c in cities:\n",
    "    print(c.name,c.lat,c.lon)"
   ]
  },
  {
   "cell_type": "code",
   "execution_count": 45,
   "metadata": {},
   "outputs": [],
   "source": [
    "lat1, lon1 = input(\"Enter lat1,lon1: \").split(\",\")"
   ]
  },
  {
   "cell_type": "code",
   "execution_count": 46,
   "metadata": {},
   "outputs": [],
   "source": [
    "lat2, lon2 = input(\"Enter lat2,lon2: \").split(\",\")"
   ]
  },
  {
   "cell_type": "code",
   "execution_count": 47,
   "metadata": {},
   "outputs": [],
   "source": [
    "lat1, lon1, lat2, lon2, = float(lat1), float(lon1), float(lat2), float(lon2)"
   ]
  },
  {
   "cell_type": "code",
   "execution_count": 41,
   "metadata": {},
   "outputs": [],
   "source": [
    "if lon1 > lon2:\n",
    "  lon1,lon2 = lon2,lon1\n",
    "if lat1 > lat2:\n",
    "  lat1,lat2 = lat2, lat1\n",
    "def cityreader_stretch(lat1, lon1, lat2, lon2, cities=[]):\n",
    "  # within will hold the cities that fall within the specified region\n",
    "  within = []\n",
    "  # TODO Ensure that the lat and lon valuse are all floats\n",
    "  # Go through each city and check to see if it falls within \n",
    "  # the specified coordinates.\n",
    "  lat1, lon1, lat2, lon2, = float(lat1), float(lon1), float(lat2), float(lon2)\n",
    "  for i in cities:\n",
    "    if float(i.lat) >= lat1 and float(i.lat) <= lat2 and float(i.lon) >= lon1 and float(i.lon) <= lon2:\n",
    "      within.append(i)\n",
    "  return within"
   ]
  },
  {
   "cell_type": "code",
   "execution_count": 48,
   "metadata": {},
   "outputs": [],
   "source": [
    "within = cityreader_stretch(lat1,lon1,lat2,lon2, cities)"
   ]
  },
  {
   "cell_type": "code",
   "execution_count": 49,
   "metadata": {},
   "outputs": [
    {
     "output_type": "stream",
     "name": "stdout",
     "text": "Albuquerque\nRiverside\nSan Diego\nLos Angeles\nLas Vegas\nDenver\nPhoenix\nTucson\nSalt Lake City\n"
    }
   ],
   "source": [
    "for i in within:\n",
    "    print(i.name)"
   ]
  },
  {
   "cell_type": "code",
   "execution_count": 51,
   "metadata": {},
   "outputs": [
    {
     "output_type": "execute_result",
     "data": {
      "text/plain": "['C', 'D', 'E', 'F', 'G']"
     },
     "metadata": {},
     "execution_count": 51
    }
   ],
   "source": [
    "[chr(i) for i in range(ord('C'),ord('G')+1)]"
   ]
  },
  {
   "cell_type": "code",
   "execution_count": 86,
   "metadata": {},
   "outputs": [],
   "source": [
    "class Human:\n",
    "    def __init__(self, name, age):\n",
    "        self.name = name\n",
    "        self.age = age\n",
    "\n",
    "    def __repr__(self):\n",
    "        return f\"<Human: {self.name}, {self.age}>\"\n",
    "\n",
    "humans = [\n",
    "    Human(\"Alice\", 29),\n",
    "    Human(\"Bob\", 32),\n",
    "    Human(\"Charlie\", 37),\n",
    "    Human(\"Daphne\", 30),\n",
    "    Human(\"Eve\", 26),\n",
    "    Human(\"Frank\", 18),\n",
    "    Human(\"Glenn\", 42),\n",
    "    Human(\"Harrison\", 12),\n",
    "    Human(\"Igon\", 41),\n",
    "    Human(\"David\", 31),\n",
    "]"
   ]
  },
  {
   "cell_type": "code",
   "execution_count": 54,
   "metadata": {},
   "outputs": [
    {
     "output_type": "stream",
     "name": "stdout",
     "text": "['Alice-29', 'Bob-32', 'Charlie-37', 'Daphne-30', 'Eve-26', 'Frank-18', 'Glenn-42', 'Harrison-12', 'Igon-41', 'David-31']\n"
    }
   ],
   "source": [
    "e = [(i.name+\"-\"+str(i.age)) for i in humans]\n",
    "print(e)"
   ]
  },
  {
   "cell_type": "code",
   "execution_count": 59,
   "metadata": {},
   "outputs": [
    {
     "output_type": "execute_result",
     "data": {
      "text/plain": "[39, 42, 47, 40, 36, 28, 52, 22, 51, 41]"
     },
     "metadata": {},
     "execution_count": 59
    }
   ],
   "source": [
    "d = [i.age+10 for i in humans]\n",
    "d"
   ]
  },
  {
   "cell_type": "code",
   "execution_count": 87,
   "metadata": {},
   "outputs": [
    {
     "output_type": "execute_result",
     "data": {
      "text/plain": "[<Human: ALICE, 34>,\n <Human: BOB, 37>,\n <Human: CHARLIE, 42>,\n <Human: DAPHNE, 35>,\n <Human: EVE, 31>,\n <Human: FRANK, 23>,\n <Human: GLENN, 47>,\n <Human: HARRISON, 17>,\n <Human: IGON, 46>,\n <Human: DAVID, 36>]"
     },
     "metadata": {},
     "execution_count": 87
    }
   ],
   "source": [
    "new = [Human(i.name.upper(),i.age+5) for i in humans]\n",
    "\n",
    "new"
   ]
  },
  {
   "cell_type": "code",
   "execution_count": 93,
   "metadata": {},
   "outputs": [
    {
     "output_type": "execute_result",
     "data": {
      "text/plain": "['Charlie', 'Daphne', 'Eve', 'Frank', 'Glenn', 'David']"
     },
     "metadata": {},
     "execution_count": 93
    }
   ],
   "source": [
    "c = [i.name for i in humans if ord(i.name[0]) in range(ord(\"C\"),ord(\"G\")+1)]\n",
    "c"
   ]
  },
  {
   "cell_type": "code",
   "execution_count": 90,
   "metadata": {},
   "outputs": [
    {
     "output_type": "stream",
     "name": "stdout",
     "text": "range(67, 72)\n"
    }
   ],
   "source": [
    "print(range(ord(\"C\"),ord(\"G\")+1))"
   ]
  },
  {
   "cell_type": "code",
   "execution_count": 91,
   "metadata": {},
   "outputs": [
    {
     "output_type": "stream",
     "name": "stdout",
     "text": "67\n68\n69\n70\n71\n"
    }
   ],
   "source": [
    "for i in range(ord(\"C\"),ord(\"G\")+1):\n",
    "    print(i)"
   ]
  },
  {
   "cell_type": "code",
   "execution_count": null,
   "metadata": {},
   "outputs": [],
   "source": []
  }
 ],
 "metadata": {
  "language_info": {
   "codemirror_mode": {
    "name": "ipython",
    "version": 3
   },
   "file_extension": ".py",
   "mimetype": "text/x-python",
   "name": "python",
   "nbconvert_exporter": "python",
   "pygments_lexer": "ipython3",
   "version": "3.7.6-final"
  },
  "orig_nbformat": 2,
  "kernelspec": {
   "name": "python3",
   "display_name": "Python 3"
  }
 },
 "nbformat": 4,
 "nbformat_minor": 2
}